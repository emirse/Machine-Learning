{
 "cells": [
  {
   "cell_type": "code",
   "execution_count": 66,
   "id": "fb84012b",
   "metadata": {},
   "outputs": [],
   "source": [
    "import pandas as pd\n",
    "import matplotlib.pyplot as plt\n",
    "from sklearn.svm import SVC"
   ]
  },
  {
   "cell_type": "code",
   "execution_count": 67,
   "id": "f3c0f4d2",
   "metadata": {},
   "outputs": [],
   "source": [
    "%matplotlib inline"
   ]
  },
  {
   "cell_type": "code",
   "execution_count": 68,
   "id": "e19c4011",
   "metadata": {},
   "outputs": [],
   "source": [
    "df=pd.read_csv('star_classification.csv')"
   ]
  },
  {
   "cell_type": "code",
   "execution_count": 69,
   "id": "d5e4f274",
   "metadata": {},
   "outputs": [
    {
     "data": {
      "text/html": [
       "<div>\n",
       "<style scoped>\n",
       "    .dataframe tbody tr th:only-of-type {\n",
       "        vertical-align: middle;\n",
       "    }\n",
       "\n",
       "    .dataframe tbody tr th {\n",
       "        vertical-align: top;\n",
       "    }\n",
       "\n",
       "    .dataframe thead th {\n",
       "        text-align: right;\n",
       "    }\n",
       "</style>\n",
       "<table border=\"1\" class=\"dataframe\">\n",
       "  <thead>\n",
       "    <tr style=\"text-align: right;\">\n",
       "      <th></th>\n",
       "      <th>obj_ID</th>\n",
       "      <th>alpha</th>\n",
       "      <th>delta</th>\n",
       "      <th>u</th>\n",
       "      <th>g</th>\n",
       "      <th>r</th>\n",
       "      <th>i</th>\n",
       "      <th>z</th>\n",
       "      <th>run_ID</th>\n",
       "      <th>rerun_ID</th>\n",
       "      <th>cam_col</th>\n",
       "      <th>field_ID</th>\n",
       "      <th>spec_obj_ID</th>\n",
       "      <th>class</th>\n",
       "      <th>redshift</th>\n",
       "      <th>plate</th>\n",
       "      <th>MJD</th>\n",
       "      <th>fiber_ID</th>\n",
       "    </tr>\n",
       "  </thead>\n",
       "  <tbody>\n",
       "    <tr>\n",
       "      <th>0</th>\n",
       "      <td>1.237661e+18</td>\n",
       "      <td>135.689107</td>\n",
       "      <td>32.494632</td>\n",
       "      <td>23.87882</td>\n",
       "      <td>22.27530</td>\n",
       "      <td>20.39501</td>\n",
       "      <td>19.16573</td>\n",
       "      <td>18.79371</td>\n",
       "      <td>3606</td>\n",
       "      <td>301</td>\n",
       "      <td>2</td>\n",
       "      <td>79</td>\n",
       "      <td>6.543777e+18</td>\n",
       "      <td>GALAXY</td>\n",
       "      <td>0.634794</td>\n",
       "      <td>5812</td>\n",
       "      <td>56354</td>\n",
       "      <td>171</td>\n",
       "    </tr>\n",
       "    <tr>\n",
       "      <th>1</th>\n",
       "      <td>1.237665e+18</td>\n",
       "      <td>144.826101</td>\n",
       "      <td>31.274185</td>\n",
       "      <td>24.77759</td>\n",
       "      <td>22.83188</td>\n",
       "      <td>22.58444</td>\n",
       "      <td>21.16812</td>\n",
       "      <td>21.61427</td>\n",
       "      <td>4518</td>\n",
       "      <td>301</td>\n",
       "      <td>5</td>\n",
       "      <td>119</td>\n",
       "      <td>1.176014e+19</td>\n",
       "      <td>GALAXY</td>\n",
       "      <td>0.779136</td>\n",
       "      <td>10445</td>\n",
       "      <td>58158</td>\n",
       "      <td>427</td>\n",
       "    </tr>\n",
       "    <tr>\n",
       "      <th>2</th>\n",
       "      <td>1.237661e+18</td>\n",
       "      <td>142.188790</td>\n",
       "      <td>35.582444</td>\n",
       "      <td>25.26307</td>\n",
       "      <td>22.66389</td>\n",
       "      <td>20.60976</td>\n",
       "      <td>19.34857</td>\n",
       "      <td>18.94827</td>\n",
       "      <td>3606</td>\n",
       "      <td>301</td>\n",
       "      <td>2</td>\n",
       "      <td>120</td>\n",
       "      <td>5.152200e+18</td>\n",
       "      <td>GALAXY</td>\n",
       "      <td>0.644195</td>\n",
       "      <td>4576</td>\n",
       "      <td>55592</td>\n",
       "      <td>299</td>\n",
       "    </tr>\n",
       "    <tr>\n",
       "      <th>3</th>\n",
       "      <td>1.237663e+18</td>\n",
       "      <td>338.741038</td>\n",
       "      <td>-0.402828</td>\n",
       "      <td>22.13682</td>\n",
       "      <td>23.77656</td>\n",
       "      <td>21.61162</td>\n",
       "      <td>20.50454</td>\n",
       "      <td>19.25010</td>\n",
       "      <td>4192</td>\n",
       "      <td>301</td>\n",
       "      <td>3</td>\n",
       "      <td>214</td>\n",
       "      <td>1.030107e+19</td>\n",
       "      <td>GALAXY</td>\n",
       "      <td>0.932346</td>\n",
       "      <td>9149</td>\n",
       "      <td>58039</td>\n",
       "      <td>775</td>\n",
       "    </tr>\n",
       "    <tr>\n",
       "      <th>4</th>\n",
       "      <td>1.237680e+18</td>\n",
       "      <td>345.282593</td>\n",
       "      <td>21.183866</td>\n",
       "      <td>19.43718</td>\n",
       "      <td>17.58028</td>\n",
       "      <td>16.49747</td>\n",
       "      <td>15.97711</td>\n",
       "      <td>15.54461</td>\n",
       "      <td>8102</td>\n",
       "      <td>301</td>\n",
       "      <td>3</td>\n",
       "      <td>137</td>\n",
       "      <td>6.891865e+18</td>\n",
       "      <td>GALAXY</td>\n",
       "      <td>0.116123</td>\n",
       "      <td>6121</td>\n",
       "      <td>56187</td>\n",
       "      <td>842</td>\n",
       "    </tr>\n",
       "    <tr>\n",
       "      <th>...</th>\n",
       "      <td>...</td>\n",
       "      <td>...</td>\n",
       "      <td>...</td>\n",
       "      <td>...</td>\n",
       "      <td>...</td>\n",
       "      <td>...</td>\n",
       "      <td>...</td>\n",
       "      <td>...</td>\n",
       "      <td>...</td>\n",
       "      <td>...</td>\n",
       "      <td>...</td>\n",
       "      <td>...</td>\n",
       "      <td>...</td>\n",
       "      <td>...</td>\n",
       "      <td>...</td>\n",
       "      <td>...</td>\n",
       "      <td>...</td>\n",
       "      <td>...</td>\n",
       "    </tr>\n",
       "    <tr>\n",
       "      <th>99995</th>\n",
       "      <td>1.237679e+18</td>\n",
       "      <td>39.620709</td>\n",
       "      <td>-2.594074</td>\n",
       "      <td>22.16759</td>\n",
       "      <td>22.97586</td>\n",
       "      <td>21.90404</td>\n",
       "      <td>21.30548</td>\n",
       "      <td>20.73569</td>\n",
       "      <td>7778</td>\n",
       "      <td>301</td>\n",
       "      <td>2</td>\n",
       "      <td>581</td>\n",
       "      <td>1.055431e+19</td>\n",
       "      <td>GALAXY</td>\n",
       "      <td>0.000000</td>\n",
       "      <td>9374</td>\n",
       "      <td>57749</td>\n",
       "      <td>438</td>\n",
       "    </tr>\n",
       "    <tr>\n",
       "      <th>99996</th>\n",
       "      <td>1.237679e+18</td>\n",
       "      <td>29.493819</td>\n",
       "      <td>19.798874</td>\n",
       "      <td>22.69118</td>\n",
       "      <td>22.38628</td>\n",
       "      <td>20.45003</td>\n",
       "      <td>19.75759</td>\n",
       "      <td>19.41526</td>\n",
       "      <td>7917</td>\n",
       "      <td>301</td>\n",
       "      <td>1</td>\n",
       "      <td>289</td>\n",
       "      <td>8.586351e+18</td>\n",
       "      <td>GALAXY</td>\n",
       "      <td>0.404895</td>\n",
       "      <td>7626</td>\n",
       "      <td>56934</td>\n",
       "      <td>866</td>\n",
       "    </tr>\n",
       "    <tr>\n",
       "      <th>99997</th>\n",
       "      <td>1.237668e+18</td>\n",
       "      <td>224.587407</td>\n",
       "      <td>15.700707</td>\n",
       "      <td>21.16916</td>\n",
       "      <td>19.26997</td>\n",
       "      <td>18.20428</td>\n",
       "      <td>17.69034</td>\n",
       "      <td>17.35221</td>\n",
       "      <td>5314</td>\n",
       "      <td>301</td>\n",
       "      <td>4</td>\n",
       "      <td>308</td>\n",
       "      <td>3.112008e+18</td>\n",
       "      <td>GALAXY</td>\n",
       "      <td>0.143366</td>\n",
       "      <td>2764</td>\n",
       "      <td>54535</td>\n",
       "      <td>74</td>\n",
       "    </tr>\n",
       "    <tr>\n",
       "      <th>99998</th>\n",
       "      <td>1.237661e+18</td>\n",
       "      <td>212.268621</td>\n",
       "      <td>46.660365</td>\n",
       "      <td>25.35039</td>\n",
       "      <td>21.63757</td>\n",
       "      <td>19.91386</td>\n",
       "      <td>19.07254</td>\n",
       "      <td>18.62482</td>\n",
       "      <td>3650</td>\n",
       "      <td>301</td>\n",
       "      <td>4</td>\n",
       "      <td>131</td>\n",
       "      <td>7.601080e+18</td>\n",
       "      <td>GALAXY</td>\n",
       "      <td>0.455040</td>\n",
       "      <td>6751</td>\n",
       "      <td>56368</td>\n",
       "      <td>470</td>\n",
       "    </tr>\n",
       "    <tr>\n",
       "      <th>99999</th>\n",
       "      <td>1.237661e+18</td>\n",
       "      <td>196.896053</td>\n",
       "      <td>49.464643</td>\n",
       "      <td>22.62171</td>\n",
       "      <td>21.79745</td>\n",
       "      <td>20.60115</td>\n",
       "      <td>20.00959</td>\n",
       "      <td>19.28075</td>\n",
       "      <td>3650</td>\n",
       "      <td>301</td>\n",
       "      <td>4</td>\n",
       "      <td>60</td>\n",
       "      <td>8.343152e+18</td>\n",
       "      <td>GALAXY</td>\n",
       "      <td>0.542944</td>\n",
       "      <td>7410</td>\n",
       "      <td>57104</td>\n",
       "      <td>851</td>\n",
       "    </tr>\n",
       "  </tbody>\n",
       "</table>\n",
       "<p>100000 rows × 18 columns</p>\n",
       "</div>"
      ],
      "text/plain": [
       "             obj_ID       alpha      delta         u         g         r  \\\n",
       "0      1.237661e+18  135.689107  32.494632  23.87882  22.27530  20.39501   \n",
       "1      1.237665e+18  144.826101  31.274185  24.77759  22.83188  22.58444   \n",
       "2      1.237661e+18  142.188790  35.582444  25.26307  22.66389  20.60976   \n",
       "3      1.237663e+18  338.741038  -0.402828  22.13682  23.77656  21.61162   \n",
       "4      1.237680e+18  345.282593  21.183866  19.43718  17.58028  16.49747   \n",
       "...             ...         ...        ...       ...       ...       ...   \n",
       "99995  1.237679e+18   39.620709  -2.594074  22.16759  22.97586  21.90404   \n",
       "99996  1.237679e+18   29.493819  19.798874  22.69118  22.38628  20.45003   \n",
       "99997  1.237668e+18  224.587407  15.700707  21.16916  19.26997  18.20428   \n",
       "99998  1.237661e+18  212.268621  46.660365  25.35039  21.63757  19.91386   \n",
       "99999  1.237661e+18  196.896053  49.464643  22.62171  21.79745  20.60115   \n",
       "\n",
       "              i         z  run_ID  rerun_ID  cam_col  field_ID   spec_obj_ID  \\\n",
       "0      19.16573  18.79371    3606       301        2        79  6.543777e+18   \n",
       "1      21.16812  21.61427    4518       301        5       119  1.176014e+19   \n",
       "2      19.34857  18.94827    3606       301        2       120  5.152200e+18   \n",
       "3      20.50454  19.25010    4192       301        3       214  1.030107e+19   \n",
       "4      15.97711  15.54461    8102       301        3       137  6.891865e+18   \n",
       "...         ...       ...     ...       ...      ...       ...           ...   \n",
       "99995  21.30548  20.73569    7778       301        2       581  1.055431e+19   \n",
       "99996  19.75759  19.41526    7917       301        1       289  8.586351e+18   \n",
       "99997  17.69034  17.35221    5314       301        4       308  3.112008e+18   \n",
       "99998  19.07254  18.62482    3650       301        4       131  7.601080e+18   \n",
       "99999  20.00959  19.28075    3650       301        4        60  8.343152e+18   \n",
       "\n",
       "        class  redshift  plate    MJD  fiber_ID  \n",
       "0      GALAXY  0.634794   5812  56354       171  \n",
       "1      GALAXY  0.779136  10445  58158       427  \n",
       "2      GALAXY  0.644195   4576  55592       299  \n",
       "3      GALAXY  0.932346   9149  58039       775  \n",
       "4      GALAXY  0.116123   6121  56187       842  \n",
       "...       ...       ...    ...    ...       ...  \n",
       "99995  GALAXY  0.000000   9374  57749       438  \n",
       "99996  GALAXY  0.404895   7626  56934       866  \n",
       "99997  GALAXY  0.143366   2764  54535        74  \n",
       "99998  GALAXY  0.455040   6751  56368       470  \n",
       "99999  GALAXY  0.542944   7410  57104       851  \n",
       "\n",
       "[100000 rows x 18 columns]"
      ]
     },
     "execution_count": 69,
     "metadata": {},
     "output_type": "execute_result"
    }
   ],
   "source": [
    "df"
   ]
  },
  {
   "cell_type": "code",
   "execution_count": 70,
   "id": "5b672cd8",
   "metadata": {},
   "outputs": [
    {
     "name": "stdout",
     "output_type": "stream",
     "text": [
      "<class 'pandas.core.frame.DataFrame'>\n",
      "RangeIndex: 100000 entries, 0 to 99999\n",
      "Data columns (total 18 columns):\n",
      "obj_ID         100000 non-null float64\n",
      "alpha          100000 non-null float64\n",
      "delta          100000 non-null float64\n",
      "u              100000 non-null float64\n",
      "g              100000 non-null float64\n",
      "r              100000 non-null float64\n",
      "i              100000 non-null float64\n",
      "z              100000 non-null float64\n",
      "run_ID         100000 non-null int64\n",
      "rerun_ID       100000 non-null int64\n",
      "cam_col        100000 non-null int64\n",
      "field_ID       100000 non-null int64\n",
      "spec_obj_ID    100000 non-null float64\n",
      "class          100000 non-null object\n",
      "redshift       100000 non-null float64\n",
      "plate          100000 non-null int64\n",
      "MJD            100000 non-null int64\n",
      "fiber_ID       100000 non-null int64\n",
      "dtypes: float64(10), int64(7), object(1)\n",
      "memory usage: 13.7+ MB\n"
     ]
    }
   ],
   "source": [
    "df.info()"
   ]
  },
  {
   "cell_type": "code",
   "execution_count": 71,
   "id": "2236fe99",
   "metadata": {},
   "outputs": [],
   "source": [
    "df['class'] = pd.factorize(df['class'])[0]"
   ]
  },
  {
   "cell_type": "code",
   "execution_count": 72,
   "id": "4f5a63bc",
   "metadata": {},
   "outputs": [
    {
     "data": {
      "text/plain": [
       "r             -0.076766\n",
       "redshift      -0.054239\n",
       "fiber_ID      -0.041586\n",
       "run_ID        -0.036014\n",
       "obj_ID        -0.036012\n",
       "field_ID      -0.034833\n",
       "u             -0.024645\n",
       "g             -0.020066\n",
       "alpha         -0.011756\n",
       "spec_obj_ID   -0.010060\n",
       "plate         -0.010060\n",
       "z             -0.001614\n",
       "MJD           -0.000405\n",
       "delta          0.014452\n",
       "i              0.015028\n",
       "cam_col        0.023138\n",
       "class          1.000000\n",
       "rerun_ID            NaN\n",
       "Name: class, dtype: float64"
      ]
     },
     "execution_count": 72,
     "metadata": {},
     "output_type": "execute_result"
    }
   ],
   "source": [
    "df.corr()['class'].sort_values()"
   ]
  },
  {
   "cell_type": "code",
   "execution_count": 73,
   "id": "b62aaf32",
   "metadata": {},
   "outputs": [],
   "source": [
    "df=df.drop(['obj_ID','run_ID','rerun_ID','cam_col','field_ID','fiber_ID'], axis = 1)"
   ]
  },
  {
   "cell_type": "code",
   "execution_count": 74,
   "id": "89d38f79",
   "metadata": {},
   "outputs": [
    {
     "data": {
      "text/plain": [
       "0    59445\n",
       "2    21594\n",
       "1    18961\n",
       "Name: class, dtype: int64"
      ]
     },
     "execution_count": 74,
     "metadata": {},
     "output_type": "execute_result"
    }
   ],
   "source": [
    "df['class'].value_counts()"
   ]
  },
  {
   "cell_type": "code",
   "execution_count": 75,
   "id": "20b9c383",
   "metadata": {},
   "outputs": [],
   "source": [
    "X=df.drop(['class'],axis=1)\n",
    "y=df['class']"
   ]
  },
  {
   "cell_type": "code",
   "execution_count": 76,
   "id": "829a20e3",
   "metadata": {},
   "outputs": [],
   "source": [
    "from sklearn.model_selection import train_test_split"
   ]
  },
  {
   "cell_type": "code",
   "execution_count": 77,
   "id": "2f28a94e",
   "metadata": {},
   "outputs": [],
   "source": [
    "X_train,X_test,y_train,y_test=train_test_split(X,y,random_state=0)"
   ]
  },
  {
   "cell_type": "code",
   "execution_count": 78,
   "id": "f1e0418d",
   "metadata": {},
   "outputs": [],
   "source": [
    "min_on_training=X_train.min(axis=0)"
   ]
  },
  {
   "cell_type": "code",
   "execution_count": 79,
   "id": "7e82be47",
   "metadata": {},
   "outputs": [],
   "source": [
    "range_on_training=(X_train-min_on_training).max(axis=0)"
   ]
  },
  {
   "cell_type": "code",
   "execution_count": 80,
   "id": "7a4b1d3e",
   "metadata": {},
   "outputs": [],
   "source": [
    "X_train_scaled=(X_train-min_on_training)/range_on_training\n",
    "X_test_scaled=(X_test-min_on_training)/range_on_training"
   ]
  },
  {
   "cell_type": "code",
   "execution_count": 81,
   "id": "aece1621",
   "metadata": {},
   "outputs": [
    {
     "data": {
      "text/html": [
       "<div>\n",
       "<style scoped>\n",
       "    .dataframe tbody tr th:only-of-type {\n",
       "        vertical-align: middle;\n",
       "    }\n",
       "\n",
       "    .dataframe tbody tr th {\n",
       "        vertical-align: top;\n",
       "    }\n",
       "\n",
       "    .dataframe thead th {\n",
       "        text-align: right;\n",
       "    }\n",
       "</style>\n",
       "<table border=\"1\" class=\"dataframe\">\n",
       "  <thead>\n",
       "    <tr style=\"text-align: right;\">\n",
       "      <th></th>\n",
       "      <th>alpha</th>\n",
       "      <th>delta</th>\n",
       "      <th>u</th>\n",
       "      <th>g</th>\n",
       "      <th>r</th>\n",
       "      <th>i</th>\n",
       "      <th>z</th>\n",
       "      <th>spec_obj_ID</th>\n",
       "      <th>redshift</th>\n",
       "      <th>plate</th>\n",
       "      <th>MJD</th>\n",
       "    </tr>\n",
       "  </thead>\n",
       "  <tbody>\n",
       "    <tr>\n",
       "      <th>2606</th>\n",
       "      <td>0.017922</td>\n",
       "      <td>0.443099</td>\n",
       "      <td>0.754608</td>\n",
       "      <td>0.646504</td>\n",
       "      <td>0.596110</td>\n",
       "      <td>0.486665</td>\n",
       "      <td>0.532716</td>\n",
       "      <td>0.602238</td>\n",
       "      <td>0.085682</td>\n",
       "      <td>0.602231</td>\n",
       "      <td>0.785090</td>\n",
       "    </tr>\n",
       "    <tr>\n",
       "      <th>57228</th>\n",
       "      <td>0.334457</td>\n",
       "      <td>0.414519</td>\n",
       "      <td>0.403784</td>\n",
       "      <td>0.359047</td>\n",
       "      <td>0.352299</td>\n",
       "      <td>0.302072</td>\n",
       "      <td>0.331592</td>\n",
       "      <td>0.081273</td>\n",
       "      <td>0.011308</td>\n",
       "      <td>0.081264</td>\n",
       "      <td>0.150055</td>\n",
       "    </tr>\n",
       "    <tr>\n",
       "      <th>8382</th>\n",
       "      <td>0.530650</td>\n",
       "      <td>0.474717</td>\n",
       "      <td>0.390916</td>\n",
       "      <td>0.341987</td>\n",
       "      <td>0.333550</td>\n",
       "      <td>0.286354</td>\n",
       "      <td>0.312652</td>\n",
       "      <td>0.160488</td>\n",
       "      <td>0.014611</td>\n",
       "      <td>0.160492</td>\n",
       "      <td>0.303113</td>\n",
       "    </tr>\n",
       "    <tr>\n",
       "      <th>60281</th>\n",
       "      <td>0.376584</td>\n",
       "      <td>0.408980</td>\n",
       "      <td>0.554388</td>\n",
       "      <td>0.561296</td>\n",
       "      <td>0.543052</td>\n",
       "      <td>0.456232</td>\n",
       "      <td>0.504471</td>\n",
       "      <td>0.448657</td>\n",
       "      <td>0.079034</td>\n",
       "      <td>0.448661</td>\n",
       "      <td>0.601038</td>\n",
       "    </tr>\n",
       "    <tr>\n",
       "      <th>48432</th>\n",
       "      <td>0.699160</td>\n",
       "      <td>0.487897</td>\n",
       "      <td>0.544600</td>\n",
       "      <td>0.567490</td>\n",
       "      <td>0.580419</td>\n",
       "      <td>0.537087</td>\n",
       "      <td>0.608750</td>\n",
       "      <td>0.867503</td>\n",
       "      <td>0.178541</td>\n",
       "      <td>0.867519</td>\n",
       "      <td>0.907155</td>\n",
       "    </tr>\n",
       "    <tr>\n",
       "      <th>...</th>\n",
       "      <td>...</td>\n",
       "      <td>...</td>\n",
       "      <td>...</td>\n",
       "      <td>...</td>\n",
       "      <td>...</td>\n",
       "      <td>...</td>\n",
       "      <td>...</td>\n",
       "      <td>...</td>\n",
       "      <td>...</td>\n",
       "      <td>...</td>\n",
       "      <td>...</td>\n",
       "    </tr>\n",
       "    <tr>\n",
       "      <th>21243</th>\n",
       "      <td>0.496269</td>\n",
       "      <td>0.402795</td>\n",
       "      <td>0.588697</td>\n",
       "      <td>0.561892</td>\n",
       "      <td>0.523223</td>\n",
       "      <td>0.429866</td>\n",
       "      <td>0.476254</td>\n",
       "      <td>0.501334</td>\n",
       "      <td>0.069429</td>\n",
       "      <td>0.501344</td>\n",
       "      <td>0.642409</td>\n",
       "    </tr>\n",
       "    <tr>\n",
       "      <th>45891</th>\n",
       "      <td>0.643107</td>\n",
       "      <td>0.368909</td>\n",
       "      <td>0.447042</td>\n",
       "      <td>0.397717</td>\n",
       "      <td>0.383685</td>\n",
       "      <td>0.326995</td>\n",
       "      <td>0.356614</td>\n",
       "      <td>0.154136</td>\n",
       "      <td>0.016516</td>\n",
       "      <td>0.154141</td>\n",
       "      <td>0.371382</td>\n",
       "    </tr>\n",
       "    <tr>\n",
       "      <th>42613</th>\n",
       "      <td>0.930155</td>\n",
       "      <td>0.185321</td>\n",
       "      <td>0.370264</td>\n",
       "      <td>0.366636</td>\n",
       "      <td>0.386049</td>\n",
       "      <td>0.345178</td>\n",
       "      <td>0.395650</td>\n",
       "      <td>0.071498</td>\n",
       "      <td>0.000969</td>\n",
       "      <td>0.071493</td>\n",
       "      <td>0.222556</td>\n",
       "    </tr>\n",
       "    <tr>\n",
       "      <th>43567</th>\n",
       "      <td>0.557827</td>\n",
       "      <td>0.825826</td>\n",
       "      <td>0.409860</td>\n",
       "      <td>0.393334</td>\n",
       "      <td>0.392984</td>\n",
       "      <td>0.342193</td>\n",
       "      <td>0.385781</td>\n",
       "      <td>0.027445</td>\n",
       "      <td>0.024618</td>\n",
       "      <td>0.027441</td>\n",
       "      <td>0.061169</td>\n",
       "    </tr>\n",
       "    <tr>\n",
       "      <th>68268</th>\n",
       "      <td>0.577835</td>\n",
       "      <td>0.508885</td>\n",
       "      <td>0.707154</td>\n",
       "      <td>0.597398</td>\n",
       "      <td>0.557503</td>\n",
       "      <td>0.451336</td>\n",
       "      <td>0.499763</td>\n",
       "      <td>0.292734</td>\n",
       "      <td>0.083846</td>\n",
       "      <td>0.292729</td>\n",
       "      <td>0.500546</td>\n",
       "    </tr>\n",
       "  </tbody>\n",
       "</table>\n",
       "<p>75000 rows × 11 columns</p>\n",
       "</div>"
      ],
      "text/plain": [
       "          alpha     delta         u         g         r         i         z  \\\n",
       "2606   0.017922  0.443099  0.754608  0.646504  0.596110  0.486665  0.532716   \n",
       "57228  0.334457  0.414519  0.403784  0.359047  0.352299  0.302072  0.331592   \n",
       "8382   0.530650  0.474717  0.390916  0.341987  0.333550  0.286354  0.312652   \n",
       "60281  0.376584  0.408980  0.554388  0.561296  0.543052  0.456232  0.504471   \n",
       "48432  0.699160  0.487897  0.544600  0.567490  0.580419  0.537087  0.608750   \n",
       "...         ...       ...       ...       ...       ...       ...       ...   \n",
       "21243  0.496269  0.402795  0.588697  0.561892  0.523223  0.429866  0.476254   \n",
       "45891  0.643107  0.368909  0.447042  0.397717  0.383685  0.326995  0.356614   \n",
       "42613  0.930155  0.185321  0.370264  0.366636  0.386049  0.345178  0.395650   \n",
       "43567  0.557827  0.825826  0.409860  0.393334  0.392984  0.342193  0.385781   \n",
       "68268  0.577835  0.508885  0.707154  0.597398  0.557503  0.451336  0.499763   \n",
       "\n",
       "       spec_obj_ID  redshift     plate       MJD  \n",
       "2606      0.602238  0.085682  0.602231  0.785090  \n",
       "57228     0.081273  0.011308  0.081264  0.150055  \n",
       "8382      0.160488  0.014611  0.160492  0.303113  \n",
       "60281     0.448657  0.079034  0.448661  0.601038  \n",
       "48432     0.867503  0.178541  0.867519  0.907155  \n",
       "...            ...       ...       ...       ...  \n",
       "21243     0.501334  0.069429  0.501344  0.642409  \n",
       "45891     0.154136  0.016516  0.154141  0.371382  \n",
       "42613     0.071498  0.000969  0.071493  0.222556  \n",
       "43567     0.027445  0.024618  0.027441  0.061169  \n",
       "68268     0.292734  0.083846  0.292729  0.500546  \n",
       "\n",
       "[75000 rows x 11 columns]"
      ]
     },
     "execution_count": 81,
     "metadata": {},
     "output_type": "execute_result"
    }
   ],
   "source": [
    "X_train_scaled"
   ]
  },
  {
   "cell_type": "code",
   "execution_count": 82,
   "id": "f12bd418",
   "metadata": {},
   "outputs": [],
   "source": [
    "model=SVC(gamma='auto')"
   ]
  },
  {
   "cell_type": "code",
   "execution_count": 83,
   "id": "b02a2ccd",
   "metadata": {},
   "outputs": [
    {
     "data": {
      "text/plain": [
       "SVC(gamma='auto')"
      ]
     },
     "execution_count": 83,
     "metadata": {},
     "output_type": "execute_result"
    }
   ],
   "source": [
    "model.fit(X_train_scaled,y_train)"
   ]
  },
  {
   "cell_type": "code",
   "execution_count": 84,
   "id": "9f608a29",
   "metadata": {},
   "outputs": [
    {
     "name": "stdout",
     "output_type": "stream",
     "text": [
      "0.9224266666666666\n",
      "0.92264\n"
     ]
    }
   ],
   "source": [
    "print(model.score(X_train_scaled,y_train))\n",
    "print(model.score(X_test_scaled,y_test))"
   ]
  },
  {
   "cell_type": "code",
   "execution_count": 85,
   "id": "78eadd7a",
   "metadata": {},
   "outputs": [
    {
     "data": {
      "text/plain": [
       "array([[14164,   135,   506],\n",
       "       [  536,  4175,    32],\n",
       "       [  725,     0,  4727]], dtype=int64)"
      ]
     },
     "execution_count": 85,
     "metadata": {},
     "output_type": "execute_result"
    }
   ],
   "source": [
    "from sklearn.metrics import confusion_matrix\n",
    "x_pred=model.predict(X_test_scaled)\n",
    "confusion_matrix(y_test,x_pred)"
   ]
  },
  {
   "cell_type": "code",
   "execution_count": 86,
   "id": "b9dc2355",
   "metadata": {},
   "outputs": [],
   "source": [
    "from sklearn.metrics import precision_recall_fscore_support as PRF_summary\n",
    "precision,recall,f1,support=PRF_summary(y_test,x_pred)"
   ]
  },
  {
   "cell_type": "code",
   "execution_count": 87,
   "id": "76297d77",
   "metadata": {},
   "outputs": [
    {
     "name": "stdout",
     "output_type": "stream",
     "text": [
      "              precision    recall  f1-score   support\n",
      "\n",
      "           0       0.92      0.96      0.94     14805\n",
      "           1       0.97      0.88      0.92      4743\n",
      "           2       0.90      0.87      0.88      5452\n",
      "\n",
      "    accuracy                           0.92     25000\n",
      "   macro avg       0.93      0.90      0.91     25000\n",
      "weighted avg       0.92      0.92      0.92     25000\n",
      "\n"
     ]
    }
   ],
   "source": [
    "from sklearn.metrics import classification_report\n",
    "report=classification_report(y_test,x_pred)\n",
    "print(report)"
   ]
  },
  {
   "cell_type": "code",
   "execution_count": 88,
   "id": "12f76f0e",
   "metadata": {},
   "outputs": [],
   "source": [
    "svc=SVC(C=1000,gamma='auto').fit(X_train_scaled,y_train)"
   ]
  },
  {
   "cell_type": "code",
   "execution_count": 89,
   "id": "17730feb",
   "metadata": {},
   "outputs": [
    {
     "name": "stdout",
     "output_type": "stream",
     "text": [
      "0.97004\n",
      "0.96904\n"
     ]
    }
   ],
   "source": [
    "print(svc.score(X_train_scaled,y_train))\n",
    "print(svc.score(X_test_scaled,y_test))"
   ]
  },
  {
   "cell_type": "code",
   "execution_count": 90,
   "id": "49d69878",
   "metadata": {},
   "outputs": [
    {
     "data": {
      "text/plain": [
       "array([[14164,   135,   506],\n",
       "       [  536,  4175,    32],\n",
       "       [  725,     0,  4727]], dtype=int64)"
      ]
     },
     "execution_count": 90,
     "metadata": {},
     "output_type": "execute_result"
    }
   ],
   "source": [
    "from sklearn.metrics import confusion_matrix\n",
    "x_pred=model.predict(X_test_scaled)\n",
    "confusion_matrix(y_test,x_pred)"
   ]
  },
  {
   "cell_type": "code",
   "execution_count": 91,
   "id": "885fc882",
   "metadata": {},
   "outputs": [
    {
     "name": "stdout",
     "output_type": "stream",
     "text": [
      "              precision    recall  f1-score   support\n",
      "\n",
      "           0       0.92      0.96      0.94     14805\n",
      "           1       0.97      0.88      0.92      4743\n",
      "           2       0.90      0.87      0.88      5452\n",
      "\n",
      "    accuracy                           0.92     25000\n",
      "   macro avg       0.93      0.90      0.91     25000\n",
      "weighted avg       0.92      0.92      0.92     25000\n",
      "\n"
     ]
    }
   ],
   "source": [
    "from sklearn.metrics import classification_report\n",
    "report=classification_report(y_test,x_pred)\n",
    "print(report)"
   ]
  },
  {
   "cell_type": "code",
   "execution_count": null,
   "id": "22d444c2",
   "metadata": {},
   "outputs": [],
   "source": []
  }
 ],
 "metadata": {
  "kernelspec": {
   "display_name": "Python 3",
   "language": "python",
   "name": "python3"
  },
  "language_info": {
   "codemirror_mode": {
    "name": "ipython",
    "version": 3
   },
   "file_extension": ".py",
   "mimetype": "text/x-python",
   "name": "python",
   "nbconvert_exporter": "python",
   "pygments_lexer": "ipython3",
   "version": "3.6.13"
  }
 },
 "nbformat": 4,
 "nbformat_minor": 5
}
