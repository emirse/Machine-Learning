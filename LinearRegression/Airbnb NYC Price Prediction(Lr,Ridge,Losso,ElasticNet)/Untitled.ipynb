{
 "cells": [
  {
   "cell_type": "code",
   "execution_count": 274,
   "id": "1e151df1",
   "metadata": {},
   "outputs": [],
   "source": [
    "import pandas as pd\n",
    "import numpy as np\n",
    "from sklearn.preprocessing import PolynomialFeatures\n",
    "from sklearn.preprocessing import StandardScaler\n",
    "from sklearn.model_selection import KFold"
   ]
  },
  {
   "cell_type": "code",
   "execution_count": 275,
   "id": "5d5fc80a",
   "metadata": {},
   "outputs": [],
   "source": [
    "df=pd.read_csv(\"AB_NYC_2019.csv\")"
   ]
  },
  {
   "cell_type": "code",
   "execution_count": 276,
   "id": "a92c13c3",
   "metadata": {},
   "outputs": [
    {
     "data": {
      "text/plain": [
       "Index(['id', 'name', 'host_id', 'host_name', 'neighbourhood_group',\n",
       "       'neighbourhood', 'latitude', 'longitude', 'room_type', 'price',\n",
       "       'minimum_nights', 'number_of_reviews', 'last_review',\n",
       "       'reviews_per_month', 'calculated_host_listings_count',\n",
       "       'availability_365'],\n",
       "      dtype='object')"
      ]
     },
     "execution_count": 276,
     "metadata": {},
     "output_type": "execute_result"
    }
   ],
   "source": [
    "df.columns"
   ]
  },
  {
   "cell_type": "code",
   "execution_count": 277,
   "id": "c5e4ddff",
   "metadata": {},
   "outputs": [
    {
     "name": "stdout",
     "output_type": "stream",
     "text": [
      "<class 'pandas.core.frame.DataFrame'>\n",
      "RangeIndex: 48895 entries, 0 to 48894\n",
      "Data columns (total 16 columns):\n",
      "id                                48895 non-null int64\n",
      "name                              48879 non-null object\n",
      "host_id                           48895 non-null int64\n",
      "host_name                         48874 non-null object\n",
      "neighbourhood_group               48895 non-null object\n",
      "neighbourhood                     48895 non-null object\n",
      "latitude                          48895 non-null float64\n",
      "longitude                         48895 non-null float64\n",
      "room_type                         48895 non-null object\n",
      "price                             48895 non-null int64\n",
      "minimum_nights                    48895 non-null int64\n",
      "number_of_reviews                 48895 non-null int64\n",
      "last_review                       38843 non-null object\n",
      "reviews_per_month                 38843 non-null float64\n",
      "calculated_host_listings_count    48895 non-null int64\n",
      "availability_365                  48895 non-null int64\n",
      "dtypes: float64(3), int64(7), object(6)\n",
      "memory usage: 6.0+ MB\n"
     ]
    }
   ],
   "source": [
    "df.info()"
   ]
  },
  {
   "cell_type": "code",
   "execution_count": 278,
   "id": "70b9666c",
   "metadata": {},
   "outputs": [
    {
     "data": {
      "text/html": [
       "<div>\n",
       "<style scoped>\n",
       "    .dataframe tbody tr th:only-of-type {\n",
       "        vertical-align: middle;\n",
       "    }\n",
       "\n",
       "    .dataframe tbody tr th {\n",
       "        vertical-align: top;\n",
       "    }\n",
       "\n",
       "    .dataframe thead th {\n",
       "        text-align: right;\n",
       "    }\n",
       "</style>\n",
       "<table border=\"1\" class=\"dataframe\">\n",
       "  <thead>\n",
       "    <tr style=\"text-align: right;\">\n",
       "      <th></th>\n",
       "      <th>id</th>\n",
       "      <th>name</th>\n",
       "      <th>host_id</th>\n",
       "      <th>host_name</th>\n",
       "      <th>neighbourhood_group</th>\n",
       "      <th>neighbourhood</th>\n",
       "      <th>latitude</th>\n",
       "      <th>longitude</th>\n",
       "      <th>room_type</th>\n",
       "      <th>price</th>\n",
       "      <th>minimum_nights</th>\n",
       "      <th>number_of_reviews</th>\n",
       "      <th>last_review</th>\n",
       "      <th>reviews_per_month</th>\n",
       "      <th>calculated_host_listings_count</th>\n",
       "      <th>availability_365</th>\n",
       "    </tr>\n",
       "  </thead>\n",
       "  <tbody>\n",
       "    <tr>\n",
       "      <th>0</th>\n",
       "      <td>2539</td>\n",
       "      <td>Clean &amp; quiet apt home by the park</td>\n",
       "      <td>2787</td>\n",
       "      <td>John</td>\n",
       "      <td>Brooklyn</td>\n",
       "      <td>Kensington</td>\n",
       "      <td>40.64749</td>\n",
       "      <td>-73.97237</td>\n",
       "      <td>Private room</td>\n",
       "      <td>149</td>\n",
       "      <td>1</td>\n",
       "      <td>9</td>\n",
       "      <td>2018-10-19</td>\n",
       "      <td>0.21</td>\n",
       "      <td>6</td>\n",
       "      <td>365</td>\n",
       "    </tr>\n",
       "    <tr>\n",
       "      <th>1</th>\n",
       "      <td>2595</td>\n",
       "      <td>Skylit Midtown Castle</td>\n",
       "      <td>2845</td>\n",
       "      <td>Jennifer</td>\n",
       "      <td>Manhattan</td>\n",
       "      <td>Midtown</td>\n",
       "      <td>40.75362</td>\n",
       "      <td>-73.98377</td>\n",
       "      <td>Entire home/apt</td>\n",
       "      <td>225</td>\n",
       "      <td>1</td>\n",
       "      <td>45</td>\n",
       "      <td>2019-05-21</td>\n",
       "      <td>0.38</td>\n",
       "      <td>2</td>\n",
       "      <td>355</td>\n",
       "    </tr>\n",
       "    <tr>\n",
       "      <th>2</th>\n",
       "      <td>3647</td>\n",
       "      <td>THE VILLAGE OF HARLEM....NEW YORK !</td>\n",
       "      <td>4632</td>\n",
       "      <td>Elisabeth</td>\n",
       "      <td>Manhattan</td>\n",
       "      <td>Harlem</td>\n",
       "      <td>40.80902</td>\n",
       "      <td>-73.94190</td>\n",
       "      <td>Private room</td>\n",
       "      <td>150</td>\n",
       "      <td>3</td>\n",
       "      <td>0</td>\n",
       "      <td>NaN</td>\n",
       "      <td>NaN</td>\n",
       "      <td>1</td>\n",
       "      <td>365</td>\n",
       "    </tr>\n",
       "    <tr>\n",
       "      <th>3</th>\n",
       "      <td>3831</td>\n",
       "      <td>Cozy Entire Floor of Brownstone</td>\n",
       "      <td>4869</td>\n",
       "      <td>LisaRoxanne</td>\n",
       "      <td>Brooklyn</td>\n",
       "      <td>Clinton Hill</td>\n",
       "      <td>40.68514</td>\n",
       "      <td>-73.95976</td>\n",
       "      <td>Entire home/apt</td>\n",
       "      <td>89</td>\n",
       "      <td>1</td>\n",
       "      <td>270</td>\n",
       "      <td>2019-07-05</td>\n",
       "      <td>4.64</td>\n",
       "      <td>1</td>\n",
       "      <td>194</td>\n",
       "    </tr>\n",
       "    <tr>\n",
       "      <th>4</th>\n",
       "      <td>5022</td>\n",
       "      <td>Entire Apt: Spacious Studio/Loft by central park</td>\n",
       "      <td>7192</td>\n",
       "      <td>Laura</td>\n",
       "      <td>Manhattan</td>\n",
       "      <td>East Harlem</td>\n",
       "      <td>40.79851</td>\n",
       "      <td>-73.94399</td>\n",
       "      <td>Entire home/apt</td>\n",
       "      <td>80</td>\n",
       "      <td>10</td>\n",
       "      <td>9</td>\n",
       "      <td>2018-11-19</td>\n",
       "      <td>0.10</td>\n",
       "      <td>1</td>\n",
       "      <td>0</td>\n",
       "    </tr>\n",
       "  </tbody>\n",
       "</table>\n",
       "</div>"
      ],
      "text/plain": [
       "     id                                              name  host_id  \\\n",
       "0  2539                Clean & quiet apt home by the park     2787   \n",
       "1  2595                             Skylit Midtown Castle     2845   \n",
       "2  3647               THE VILLAGE OF HARLEM....NEW YORK !     4632   \n",
       "3  3831                   Cozy Entire Floor of Brownstone     4869   \n",
       "4  5022  Entire Apt: Spacious Studio/Loft by central park     7192   \n",
       "\n",
       "     host_name neighbourhood_group neighbourhood  latitude  longitude  \\\n",
       "0         John            Brooklyn    Kensington  40.64749  -73.97237   \n",
       "1     Jennifer           Manhattan       Midtown  40.75362  -73.98377   \n",
       "2    Elisabeth           Manhattan        Harlem  40.80902  -73.94190   \n",
       "3  LisaRoxanne            Brooklyn  Clinton Hill  40.68514  -73.95976   \n",
       "4        Laura           Manhattan   East Harlem  40.79851  -73.94399   \n",
       "\n",
       "         room_type  price  minimum_nights  number_of_reviews last_review  \\\n",
       "0     Private room    149               1                  9  2018-10-19   \n",
       "1  Entire home/apt    225               1                 45  2019-05-21   \n",
       "2     Private room    150               3                  0         NaN   \n",
       "3  Entire home/apt     89               1                270  2019-07-05   \n",
       "4  Entire home/apt     80              10                  9  2018-11-19   \n",
       "\n",
       "   reviews_per_month  calculated_host_listings_count  availability_365  \n",
       "0               0.21                               6               365  \n",
       "1               0.38                               2               355  \n",
       "2                NaN                               1               365  \n",
       "3               4.64                               1               194  \n",
       "4               0.10                               1                 0  "
      ]
     },
     "execution_count": 278,
     "metadata": {},
     "output_type": "execute_result"
    }
   ],
   "source": [
    "df.head(5)"
   ]
  },
  {
   "cell_type": "code",
   "execution_count": 279,
   "id": "e9a411ec",
   "metadata": {},
   "outputs": [],
   "source": [
    "df['neighbourhood_group']=df['neighbourhood_group'].astype(\"category\").cat.codes\n",
    "df['neighbourhood']=df['neighbourhood'].astype(\"category\").cat.codes\n",
    "df['room_type']=df['room_type'].astype(\"category\").cat.codes\n",
    "df['price_log'] = np.log(df.price+1)"
   ]
  },
  {
   "cell_type": "code",
   "execution_count": 280,
   "id": "26a4fb8a",
   "metadata": {},
   "outputs": [
    {
     "data": {
      "text/plain": [
       "id                                    0\n",
       "name                                 16\n",
       "host_id                               0\n",
       "host_name                            21\n",
       "neighbourhood_group                   0\n",
       "neighbourhood                         0\n",
       "latitude                              0\n",
       "longitude                             0\n",
       "room_type                             0\n",
       "price                                 0\n",
       "minimum_nights                        0\n",
       "number_of_reviews                     0\n",
       "last_review                       10052\n",
       "reviews_per_month                 10052\n",
       "calculated_host_listings_count        0\n",
       "availability_365                      0\n",
       "price_log                             0\n",
       "dtype: int64"
      ]
     },
     "execution_count": 280,
     "metadata": {},
     "output_type": "execute_result"
    }
   ],
   "source": [
    "df.isnull().sum()"
   ]
  },
  {
   "cell_type": "code",
   "execution_count": 281,
   "id": "fef1bc3e",
   "metadata": {},
   "outputs": [],
   "source": [
    "df=df.drop(columns=['name','id' ,'host_id','host_name', \n",
    "                                   'last_review','price'])\n"
   ]
  },
  {
   "cell_type": "code",
   "execution_count": 282,
   "id": "7bc1cace",
   "metadata": {},
   "outputs": [
    {
     "data": {
      "text/plain": [
       "neighbourhood_group               0\n",
       "neighbourhood                     0\n",
       "latitude                          0\n",
       "longitude                         0\n",
       "room_type                         0\n",
       "minimum_nights                    0\n",
       "number_of_reviews                 0\n",
       "reviews_per_month                 0\n",
       "calculated_host_listings_count    0\n",
       "availability_365                  0\n",
       "price_log                         0\n",
       "dtype: int64"
      ]
     },
     "execution_count": 282,
     "metadata": {},
     "output_type": "execute_result"
    }
   ],
   "source": [
    "mean = df['reviews_per_month'].mean()\n",
    "df['reviews_per_month'].fillna(mean, inplace=True)\n",
    "df.isnull().sum()"
   ]
  },
  {
   "cell_type": "code",
   "execution_count": 283,
   "id": "10847792",
   "metadata": {},
   "outputs": [
    {
     "data": {
      "text/plain": [
       "neighbourhood_group                  int8\n",
       "neighbourhood                       int16\n",
       "latitude                          float64\n",
       "longitude                         float64\n",
       "room_type                            int8\n",
       "minimum_nights                      int64\n",
       "number_of_reviews                   int64\n",
       "reviews_per_month                 float64\n",
       "calculated_host_listings_count      int64\n",
       "availability_365                    int64\n",
       "price_log                         float64\n",
       "dtype: object"
      ]
     },
     "execution_count": 283,
     "metadata": {},
     "output_type": "execute_result"
    }
   ],
   "source": [
    "df.dtypes"
   ]
  },
  {
   "cell_type": "code",
   "execution_count": 284,
   "id": "2b90c97e",
   "metadata": {},
   "outputs": [],
   "source": [
    "import seaborn as sns"
   ]
  },
  {
   "cell_type": "code",
   "execution_count": 285,
   "id": "4ea19f0d",
   "metadata": {},
   "outputs": [
    {
     "data": {
      "text/plain": [
       "<matplotlib.axes._subplots.AxesSubplot at 0x1e91a33b828>"
      ]
     },
     "execution_count": 285,
     "metadata": {},
     "output_type": "execute_result"
    },
    {
     "data": {
      "image/png": "[encoded data removed]",
      "text/plain": [
       "<Figure size 432x288 with 2 Axes>"
      ]
     },
     "metadata": {
      "needs_background": "light"
     },
     "output_type": "display_data"
    }
   ],
   "source": [
    "sns.heatmap(df.corr(),annot=True)"
   ]
  },
  {
   "cell_type": "code",
   "execution_count": 286,
   "id": "10260ec0",
   "metadata": {},
   "outputs": [],
   "source": [
    "y=df[\"price_log\"]"
   ]
  },
  {
   "cell_type": "code",
   "execution_count": 287,
   "id": "18b9b81a",
   "metadata": {},
   "outputs": [],
   "source": [
    "X=df.drop(\"price_log\",axis=1)"
   ]
  },
  {
   "cell_type": "code",
   "execution_count": 288,
   "id": "23b56e2c",
   "metadata": {},
   "outputs": [],
   "source": [
    "scaler = StandardScaler()\n",
    "X = scaler.fit_transform(X)"
   ]
  },
  {
   "cell_type": "code",
   "execution_count": 289,
   "id": "51b79626",
   "metadata": {},
   "outputs": [
    {
     "name": "stdout",
     "output_type": "stream",
     "text": [
      "(48895,)\n",
      "(48895, 10)\n"
     ]
    }
   ],
   "source": [
    "print(y.shape)\n",
    "print(X.shape)"
   ]
  },
  {
   "cell_type": "code",
   "execution_count": 290,
   "id": "a2fcde9b",
   "metadata": {},
   "outputs": [],
   "source": [
    "from sklearn.model_selection import train_test_split"
   ]
  },
  {
   "cell_type": "code",
   "execution_count": 291,
   "id": "e0e76f53",
   "metadata": {},
   "outputs": [],
   "source": [
    "X_train,X_test,y_train,y_test=train_test_split(X,y,train_size=0.8,random_state=42,shuffle=False)"
   ]
  },
  {
   "cell_type": "code",
   "execution_count": 292,
   "id": "2fb37ad5",
   "metadata": {},
   "outputs": [],
   "source": [
    "Poly = PolynomialFeatures(degree=2, interaction_only=True, include_bias=False)\n",
    "X_train = Poly.fit_transform(X_train)\n",
    "X_test = Poly.fit_transform(X_test)"
   ]
  },
  {
   "cell_type": "code",
   "execution_count": 293,
   "id": "65140cbf",
   "metadata": {},
   "outputs": [],
   "source": [
    "from sklearn.linear_model import LinearRegression,Ridge,Lasso,ElasticNet\n"
   ]
  },
  {
   "cell_type": "code",
   "execution_count": 294,
   "id": "f9c233db",
   "metadata": {},
   "outputs": [],
   "source": [
    "alphas=[1,0.1,0.01,0.001,0.0001]"
   ]
  },
  {
   "cell_type": "code",
   "execution_count": 295,
   "id": "8add9c09",
   "metadata": {},
   "outputs": [],
   "source": [
    "def linear_reg(X_train,X_test,y_train,y_test):\n",
    "    test_scores=[]\n",
    "    train_scores=[]\n",
    "    linearModel=LinearRegression()\n",
    "    linearModel.fit(X_train,y_train)\n",
    "    trainScore=linearModel.score(X_train,y_train)\n",
    "    testScore=linearModel.score(X_test,y_test)\n",
    "    print(\"Train Score:\",trainScore,\"\\nTest Score:\",testScore)"
   ]
  },
  {
   "cell_type": "code",
   "execution_count": 296,
   "id": "4b748d24",
   "metadata": {},
   "outputs": [],
   "source": [
    "def ridge_reg(X_train,X_test,y_train,y_test,alphas):\n",
    "    for alpha_value in alphas:\n",
    "        ridgeModel=Ridge(alpha=alpha_value,max_iter=100000).fit(X_train,y_train)\n",
    "        train_score=ridgeModel.score(X_train,y_train)\n",
    "        test_score=ridgeModel.score(X_test,y_test)\n",
    "        print('Ridge Reg train score {} % alpha = {} '.format(train_score*100,alpha_value))\n",
    "        print('Ridge Reg test score {} % alpha = {} '.format(test_score*100,alpha_value))\n",
    "        print(\"----------------------------------------------------------\")\n",
    "    "
   ]
  },
  {
   "cell_type": "code",
   "execution_count": 297,
   "id": "6fa211ec",
   "metadata": {},
   "outputs": [],
   "source": [
    "def lasso_reg(X_train,X_test,y_train,y_test,alphas):\n",
    "    for alpha_value in alphas:\n",
    "        lassoModel=Lasso(alpha=alpha_value,max_iter=100000).fit(X_train,y_train)\n",
    "        train_score=lassoModel.score(X_train,y_train)\n",
    "        test_score=(lassoModel.score(X_test,y_test))\n",
    "        print('Lasso Reg train score {} % alpha = {} '.format(train_score*100,alpha_value))\n",
    "        print('Lasso Reg test score {} % alpha = {} '.format(test_score*100,alpha_value))\n",
    "        print(\"----------------------------------------------------------\")\n"
   ]
  },
  {
   "cell_type": "code",
   "execution_count": 298,
   "id": "83450e2d",
   "metadata": {},
   "outputs": [],
   "source": [
    "def elasticnet_reg(X_train,X_test,y_train,y_test,alphas):\n",
    "    \n",
    "    for alpha_value in alphas:\n",
    "        elasticModel=ElasticNet(alpha=alpha_value,max_iter=100000).fit(X_train,y_train)\n",
    "        train_score=elasticModel.score(X_train,y_train)\n",
    "        test_score=elasticModel.score(X_test,y_test)\n",
    "        \n",
    "        print('Elasticnet Reg train score {} % alpha = {} '.format(train_score*100,alpha_value))\n",
    "        print('Elasticnet Reg test score {} % alpha = {} '.format(test_score*100,alpha_value))\n",
    "        print(\"----------------------------------------------------------\")"
   ]
  },
  {
   "cell_type": "code",
   "execution_count": 299,
   "id": "69acc678",
   "metadata": {},
   "outputs": [
    {
     "name": "stdout",
     "output_type": "stream",
     "text": [
      "Train Score: 0.48830411299279974 \n",
      "Test Score: 0.5276626590602871\n"
     ]
    }
   ],
   "source": [
    "linear_reg(X_train,X_test,y_train,y_test)"
   ]
  },
  {
   "cell_type": "code",
   "execution_count": 300,
   "id": "27df2b30",
   "metadata": {},
   "outputs": [
    {
     "name": "stdout",
     "output_type": "stream",
     "text": [
      "Ridge Reg train score 48.830409552078876 % alpha = 1 \n",
      "Ridge Reg test score 52.76407144045883 % alpha = 1 \n",
      "----------------------------------------------------------\n",
      "Ridge Reg train score 48.83041128162393 % alpha = 0.1 \n",
      "Ridge Reg test score 52.766044173135775 % alpha = 0.1 \n",
      "----------------------------------------------------------\n",
      "Ridge Reg train score 48.830411299103226 % alpha = 0.01 \n",
      "Ridge Reg test score 52.7662437097765 % alpha = 0.01 \n",
      "----------------------------------------------------------\n",
      "Ridge Reg train score 48.83041129927821 % alpha = 0.001 \n",
      "Ridge Reg test score 52.76626368617372 % alpha = 0.001 \n",
      "----------------------------------------------------------\n",
      "Ridge Reg train score 48.83041129927995 % alpha = 0.0001 \n",
      "Ridge Reg test score 52.76626568404086 % alpha = 0.0001 \n",
      "----------------------------------------------------------\n"
     ]
    }
   ],
   "source": [
    "ridge_reg(X_train,X_test,y_train,y_test,alphas)"
   ]
  },
  {
   "cell_type": "code",
   "execution_count": 301,
   "id": "a9801821",
   "metadata": {},
   "outputs": [
    {
     "name": "stdout",
     "output_type": "stream",
     "text": [
      "Lasso Reg train score 0.0 % alpha = 1 \n",
      "Lasso Reg test score -0.7656555343531268 % alpha = 1 \n",
      "----------------------------------------------------------\n",
      "Lasso Reg train score 37.17227996901524 % alpha = 0.1 \n",
      "Lasso Reg test score 38.330792245195425 % alpha = 0.1 \n",
      "----------------------------------------------------------\n",
      "Lasso Reg train score 47.63529687648923 % alpha = 0.01 \n",
      "Lasso Reg test score 52.46762079495739 % alpha = 0.01 \n",
      "----------------------------------------------------------\n",
      "Lasso Reg train score 48.74953718939927 % alpha = 0.001 \n",
      "Lasso Reg test score 53.05908750657329 % alpha = 0.001 \n",
      "----------------------------------------------------------\n",
      "Lasso Reg train score 48.82866311201338 % alpha = 0.0001 \n",
      "Lasso Reg test score 52.733419271950055 % alpha = 0.0001 \n",
      "----------------------------------------------------------\n"
     ]
    }
   ],
   "source": [
    "lasso_reg(X_train,X_test,y_train,y_test,alphas)"
   ]
  },
  {
   "cell_type": "code",
   "execution_count": 302,
   "id": "fd8c26e1",
   "metadata": {},
   "outputs": [
    {
     "name": "stdout",
     "output_type": "stream",
     "text": [
      "Elasticnet Reg train score 0.0 % alpha = 1 \n",
      "Elasticnet Reg test score -0.7656555343531268 % alpha = 1 \n",
      "----------------------------------------------------------\n",
      "Elasticnet Reg train score 41.77659994019991 % alpha = 0.1 \n",
      "Elasticnet Reg test score 44.32336605824223 % alpha = 0.1 \n",
      "----------------------------------------------------------\n",
      "Elasticnet Reg train score 48.26391762277433 % alpha = 0.01 \n",
      "Elasticnet Reg test score 53.33617815509113 % alpha = 0.01 \n",
      "----------------------------------------------------------\n",
      "Elasticnet Reg train score 48.793641636076366 % alpha = 0.001 \n",
      "Elasticnet Reg test score 52.66548088049462 % alpha = 0.001 \n",
      "----------------------------------------------------------\n",
      "Elasticnet Reg train score 48.82987685093375 % alpha = 0.0001 \n",
      "Elasticnet Reg test score 52.74778183181792 % alpha = 0.0001 \n",
      "----------------------------------------------------------\n"
     ]
    }
   ],
   "source": [
    "elasticnet_reg(X_train,X_test,y_train,y_test,alphas)"
   ]
  },
  {
   "cell_type": "code",
   "execution_count": null,
   "id": "32b2207a",
   "metadata": {},
   "outputs": [],
   "source": []
  }
 ],
 "metadata": {
  "kernelspec": {
   "display_name": "Python 3",
   "language": "python",
   "name": "python3"
  },
  "language_info": {
   "codemirror_mode": {
    "name": "ipython",
    "version": 3
   },
   "file_extension": ".py",
   "mimetype": "text/x-python",
   "name": "python",
   "nbconvert_exporter": "python",
   "pygments_lexer": "ipython3",
   "version": "3.6.13"
  }
 },
 "nbformat": 4,
 "nbformat_minor": 5
}
