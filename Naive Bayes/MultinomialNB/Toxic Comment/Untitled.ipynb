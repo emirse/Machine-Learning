{
 "cells": [
  {
   "cell_type": "code",
   "execution_count": 187,
   "id": "c7ce668e",
   "metadata": {},
   "outputs": [],
   "source": [
    "import pandas as pd\n",
    "import matplotlib.pyplot as plt"
   ]
  },
  {
   "cell_type": "code",
   "execution_count": 188,
   "id": "bc1cc340",
   "metadata": {},
   "outputs": [],
   "source": [
    "df=pd.read_csv('train.csv')"
   ]
  },
  {
   "cell_type": "code",
   "execution_count": 189,
   "id": "2d97fcb7",
   "metadata": {},
   "outputs": [
    {
     "data": {
      "text/html": [
       "<div>\n",
       "<style scoped>\n",
       "    .dataframe tbody tr th:only-of-type {\n",
       "        vertical-align: middle;\n",
       "    }\n",
       "\n",
       "    .dataframe tbody tr th {\n",
       "        vertical-align: top;\n",
       "    }\n",
       "\n",
       "    .dataframe thead th {\n",
       "        text-align: right;\n",
       "    }\n",
       "</style>\n",
       "<table border=\"1\" class=\"dataframe\">\n",
       "  <thead>\n",
       "    <tr style=\"text-align: right;\">\n",
       "      <th></th>\n",
       "      <th>id</th>\n",
       "      <th>comment_text</th>\n",
       "      <th>toxic</th>\n",
       "      <th>severe_toxic</th>\n",
       "      <th>obscene</th>\n",
       "      <th>threat</th>\n",
       "      <th>insult</th>\n",
       "      <th>identity_hate</th>\n",
       "    </tr>\n",
       "  </thead>\n",
       "  <tbody>\n",
       "    <tr>\n",
       "      <th>159092</th>\n",
       "      <td>f85df6f951a1e234</td>\n",
       "      <td>\"\\n\\n why ?  \\n\\nI do not understand the \"\"thi...</td>\n",
       "      <td>0</td>\n",
       "      <td>0</td>\n",
       "      <td>0</td>\n",
       "      <td>0</td>\n",
       "      <td>0</td>\n",
       "      <td>0</td>\n",
       "    </tr>\n",
       "    <tr>\n",
       "      <th>46258</th>\n",
       "      <td>7b8eec60d2e6cebe</td>\n",
       "      <td>CBW history link\\nI'm going to try to kill a f...</td>\n",
       "      <td>0</td>\n",
       "      <td>0</td>\n",
       "      <td>0</td>\n",
       "      <td>0</td>\n",
       "      <td>0</td>\n",
       "      <td>0</td>\n",
       "    </tr>\n",
       "    <tr>\n",
       "      <th>52102</th>\n",
       "      <td>8b6919a576b725b2</td>\n",
       "      <td>Edits to Derby County F.C. \\n\\nWhy did you rev...</td>\n",
       "      <td>0</td>\n",
       "      <td>0</td>\n",
       "      <td>0</td>\n",
       "      <td>0</td>\n",
       "      <td>0</td>\n",
       "      <td>0</td>\n",
       "    </tr>\n",
       "    <tr>\n",
       "      <th>121853</th>\n",
       "      <td>8be6c9c045628b47</td>\n",
       "      <td>GA process\\n\\n, thank you for your thorough re...</td>\n",
       "      <td>0</td>\n",
       "      <td>0</td>\n",
       "      <td>0</td>\n",
       "      <td>0</td>\n",
       "      <td>0</td>\n",
       "      <td>0</td>\n",
       "    </tr>\n",
       "    <tr>\n",
       "      <th>128339</th>\n",
       "      <td>ae5fb4efda43503d</td>\n",
       "      <td>By the way, I like the work you're doing on Cr...</td>\n",
       "      <td>0</td>\n",
       "      <td>0</td>\n",
       "      <td>0</td>\n",
       "      <td>0</td>\n",
       "      <td>0</td>\n",
       "      <td>0</td>\n",
       "    </tr>\n",
       "  </tbody>\n",
       "</table>\n",
       "</div>"
      ],
      "text/plain": [
       "                      id                                       comment_text  \\\n",
       "159092  f85df6f951a1e234  \"\\n\\n why ?  \\n\\nI do not understand the \"\"thi...   \n",
       "46258   7b8eec60d2e6cebe  CBW history link\\nI'm going to try to kill a f...   \n",
       "52102   8b6919a576b725b2  Edits to Derby County F.C. \\n\\nWhy did you rev...   \n",
       "121853  8be6c9c045628b47  GA process\\n\\n, thank you for your thorough re...   \n",
       "128339  ae5fb4efda43503d  By the way, I like the work you're doing on Cr...   \n",
       "\n",
       "        toxic  severe_toxic  obscene  threat  insult  identity_hate  \n",
       "159092      0             0        0       0       0              0  \n",
       "46258       0             0        0       0       0              0  \n",
       "52102       0             0        0       0       0              0  \n",
       "121853      0             0        0       0       0              0  \n",
       "128339      0             0        0       0       0              0  "
      ]
     },
     "execution_count": 189,
     "metadata": {},
     "output_type": "execute_result"
    }
   ],
   "source": [
    "df.sample(5)"
   ]
  },
  {
   "cell_type": "code",
   "execution_count": 190,
   "id": "59b12b8f",
   "metadata": {},
   "outputs": [],
   "source": [
    "category=['normal','toxic', 'severe_toxic', 'obscene', 'threat',\n",
    "       'insult', 'identity_hate']"
   ]
  },
  {
   "cell_type": "code",
   "execution_count": 191,
   "id": "9f284e2c",
   "metadata": {},
   "outputs": [
    {
     "name": "stdout",
     "output_type": "stream",
     "text": [
      "<class 'pandas.core.frame.DataFrame'>\n",
      "RangeIndex: 159571 entries, 0 to 159570\n",
      "Data columns (total 8 columns):\n",
      "id               159571 non-null object\n",
      "comment_text     159571 non-null object\n",
      "toxic            159571 non-null int64\n",
      "severe_toxic     159571 non-null int64\n",
      "obscene          159571 non-null int64\n",
      "threat           159571 non-null int64\n",
      "insult           159571 non-null int64\n",
      "identity_hate    159571 non-null int64\n",
      "dtypes: int64(6), object(2)\n",
      "memory usage: 9.7+ MB\n"
     ]
    }
   ],
   "source": [
    "df.info()"
   ]
  },
  {
   "cell_type": "code",
   "execution_count": 192,
   "id": "66b56a02",
   "metadata": {},
   "outputs": [],
   "source": [
    "df['y'] = (df[['toxic', 'severe_toxic', 'obscene', 'threat', 'insult', 'identity_hate']].sum(axis=1) > 0 ).astype(int)\n",
    "df = df[[\"comment_text\", 'y']].rename(columns={'comment_text': 'text'})\n"
   ]
  },
  {
   "cell_type": "code",
   "execution_count": 193,
   "id": "5b53ad29",
   "metadata": {},
   "outputs": [
    {
     "data": {
      "text/html": [
       "<div>\n",
       "<style scoped>\n",
       "    .dataframe tbody tr th:only-of-type {\n",
       "        vertical-align: middle;\n",
       "    }\n",
       "\n",
       "    .dataframe tbody tr th {\n",
       "        vertical-align: top;\n",
       "    }\n",
       "\n",
       "    .dataframe thead th {\n",
       "        text-align: right;\n",
       "    }\n",
       "</style>\n",
       "<table border=\"1\" class=\"dataframe\">\n",
       "  <thead>\n",
       "    <tr style=\"text-align: right;\">\n",
       "      <th></th>\n",
       "      <th>text</th>\n",
       "      <th>y</th>\n",
       "    </tr>\n",
       "  </thead>\n",
       "  <tbody>\n",
       "    <tr>\n",
       "      <th>106251</th>\n",
       "      <td>can also use them to make detailed island maps...</td>\n",
       "      <td>0</td>\n",
       "    </tr>\n",
       "    <tr>\n",
       "      <th>52713</th>\n",
       "      <td>\"==History of the Latter Day Saint movement==\\...</td>\n",
       "      <td>0</td>\n",
       "    </tr>\n",
       "    <tr>\n",
       "      <th>123202</th>\n",
       "      <td>\"\\n\\nI'm not going to participate in a mediati...</td>\n",
       "      <td>0</td>\n",
       "    </tr>\n",
       "    <tr>\n",
       "      <th>151835</th>\n",
       "      <td>Power as the product of force and velocity \\n\\...</td>\n",
       "      <td>0</td>\n",
       "    </tr>\n",
       "    <tr>\n",
       "      <th>36350</th>\n",
       "      <td>\"\\n\\nWhy yes, as a matter of fact I do, and it...</td>\n",
       "      <td>0</td>\n",
       "    </tr>\n",
       "  </tbody>\n",
       "</table>\n",
       "</div>"
      ],
      "text/plain": [
       "                                                     text  y\n",
       "106251  can also use them to make detailed island maps...  0\n",
       "52713   \"==History of the Latter Day Saint movement==\\...  0\n",
       "123202  \"\\n\\nI'm not going to participate in a mediati...  0\n",
       "151835  Power as the product of force and velocity \\n\\...  0\n",
       "36350   \"\\n\\nWhy yes, as a matter of fact I do, and it...  0"
      ]
     },
     "execution_count": 193,
     "metadata": {},
     "output_type": "execute_result"
    }
   ],
   "source": [
    "df.sample(5)"
   ]
  },
  {
   "cell_type": "code",
   "execution_count": 194,
   "id": "53900fe5",
   "metadata": {},
   "outputs": [
    {
     "data": {
      "text/plain": [
       "0    143346\n",
       "1     16225\n",
       "Name: y, dtype: int64"
      ]
     },
     "execution_count": 194,
     "metadata": {},
     "output_type": "execute_result"
    }
   ],
   "source": [
    "df['y'].value_counts()"
   ]
  },
  {
   "cell_type": "code",
   "execution_count": 195,
   "id": "9604f400",
   "metadata": {},
   "outputs": [],
   "source": [
    "min_len=(df['y'] == 1).sum()"
   ]
  },
  {
   "cell_type": "code",
   "execution_count": 196,
   "id": "03a676df",
   "metadata": {},
   "outputs": [
    {
     "data": {
      "text/plain": [
       "1    16225\n",
       "0    16225\n",
       "Name: y, dtype: int64"
      ]
     },
     "execution_count": 196,
     "metadata": {},
     "output_type": "execute_result"
    }
   ],
   "source": [
    "df_min = df[df['y'] == 0].sample(n=min_len, random_state=150)\n",
    "df = pd.concat([df[df['y'] == 1], df_min])\n",
    "df['y'].value_counts()"
   ]
  },
  {
   "cell_type": "code",
   "execution_count": 197,
   "id": "6463c412",
   "metadata": {},
   "outputs": [
    {
     "data": {
      "text/html": [
       "<div>\n",
       "<style scoped>\n",
       "    .dataframe tbody tr th:only-of-type {\n",
       "        vertical-align: middle;\n",
       "    }\n",
       "\n",
       "    .dataframe tbody tr th {\n",
       "        vertical-align: top;\n",
       "    }\n",
       "\n",
       "    .dataframe thead th {\n",
       "        text-align: right;\n",
       "    }\n",
       "</style>\n",
       "<table border=\"1\" class=\"dataframe\">\n",
       "  <thead>\n",
       "    <tr style=\"text-align: right;\">\n",
       "      <th></th>\n",
       "      <th>text</th>\n",
       "      <th>y</th>\n",
       "    </tr>\n",
       "  </thead>\n",
       "  <tbody>\n",
       "    <tr>\n",
       "      <th>6</th>\n",
       "      <td>COCKSUCKER BEFORE YOU PISS AROUND ON MY WORK</td>\n",
       "      <td>1</td>\n",
       "    </tr>\n",
       "    <tr>\n",
       "      <th>12</th>\n",
       "      <td>Hey... what is it..\\n@ | talk .\\nWhat is it......</td>\n",
       "      <td>1</td>\n",
       "    </tr>\n",
       "    <tr>\n",
       "      <th>16</th>\n",
       "      <td>Bye! \\n\\nDon't look, come or think of comming ...</td>\n",
       "      <td>1</td>\n",
       "    </tr>\n",
       "    <tr>\n",
       "      <th>42</th>\n",
       "      <td>You are gay or antisemmitian? \\n\\nArchangel WH...</td>\n",
       "      <td>1</td>\n",
       "    </tr>\n",
       "    <tr>\n",
       "      <th>43</th>\n",
       "      <td>FUCK YOUR FILTHY MOTHER IN THE ASS, DRY!</td>\n",
       "      <td>1</td>\n",
       "    </tr>\n",
       "    <tr>\n",
       "      <th>...</th>\n",
       "      <td>...</td>\n",
       "      <td>...</td>\n",
       "    </tr>\n",
       "    <tr>\n",
       "      <th>147639</th>\n",
       "      <td>\"\\n\\n Hunting for embedded outlines \\n\\nWhile ...</td>\n",
       "      <td>0</td>\n",
       "    </tr>\n",
       "    <tr>\n",
       "      <th>155676</th>\n",
       "      <td>I will look into it.</td>\n",
       "      <td>0</td>\n",
       "    </tr>\n",
       "    <tr>\n",
       "      <th>17313</th>\n",
       "      <td>Hidden Palms \\n\\nMidseason entry Hidden Palms ...</td>\n",
       "      <td>0</td>\n",
       "    </tr>\n",
       "    <tr>\n",
       "      <th>135477</th>\n",
       "      <td>What do you suggest then? We shouldn't leave t...</td>\n",
       "      <td>0</td>\n",
       "    </tr>\n",
       "    <tr>\n",
       "      <th>5629</th>\n",
       "      <td>It seems that section was already accumulating...</td>\n",
       "      <td>0</td>\n",
       "    </tr>\n",
       "  </tbody>\n",
       "</table>\n",
       "<p>32450 rows × 2 columns</p>\n",
       "</div>"
      ],
      "text/plain": [
       "                                                     text  y\n",
       "6            COCKSUCKER BEFORE YOU PISS AROUND ON MY WORK  1\n",
       "12      Hey... what is it..\\n@ | talk .\\nWhat is it......  1\n",
       "16      Bye! \\n\\nDon't look, come or think of comming ...  1\n",
       "42      You are gay or antisemmitian? \\n\\nArchangel WH...  1\n",
       "43               FUCK YOUR FILTHY MOTHER IN THE ASS, DRY!  1\n",
       "...                                                   ... ..\n",
       "147639  \"\\n\\n Hunting for embedded outlines \\n\\nWhile ...  0\n",
       "155676                               I will look into it.  0\n",
       "17313   Hidden Palms \\n\\nMidseason entry Hidden Palms ...  0\n",
       "135477  What do you suggest then? We shouldn't leave t...  0\n",
       "5629    It seems that section was already accumulating...  0\n",
       "\n",
       "[32450 rows x 2 columns]"
      ]
     },
     "execution_count": 197,
     "metadata": {},
     "output_type": "execute_result"
    }
   ],
   "source": [
    "df"
   ]
  },
  {
   "cell_type": "code",
   "execution_count": 198,
   "id": "712759eb",
   "metadata": {},
   "outputs": [],
   "source": [
    "import preprocess_kgptalkie as ps"
   ]
  },
  {
   "cell_type": "code",
   "execution_count": 199,
   "id": "e2648185",
   "metadata": {},
   "outputs": [],
   "source": [
    "df['text']=df['text'].apply(lambda x:ps.remove_special_chars(x))"
   ]
  },
  {
   "cell_type": "code",
   "execution_count": 200,
   "id": "e0666a49",
   "metadata": {},
   "outputs": [],
   "source": [
    "X=df['text']\n",
    "y=df['y']"
   ]
  },
  {
   "cell_type": "code",
   "execution_count": 201,
   "id": "883590bc",
   "metadata": {},
   "outputs": [],
   "source": [
    "from sklearn.model_selection import train_test_split"
   ]
  },
  {
   "cell_type": "code",
   "execution_count": 202,
   "id": "cba115dd",
   "metadata": {},
   "outputs": [],
   "source": [
    "X_train,X_test,y_train,y_test=train_test_split(X,y,train_size = 0.8,random_state = 42, stratify = y)"
   ]
  },
  {
   "cell_type": "code",
   "execution_count": 203,
   "id": "4f2cc0e1",
   "metadata": {},
   "outputs": [],
   "source": [
    "from sklearn.feature_extraction.text import TfidfVectorizer\n",
    "from sklearn.naive_bayes import MultinomialNB\n",
    "from sklearn.pipeline import make_pipeline"
   ]
  },
  {
   "cell_type": "code",
   "execution_count": 204,
   "id": "a3f2d4ea",
   "metadata": {},
   "outputs": [],
   "source": [
    "model=make_pipeline(TfidfVectorizer(),MultinomialNB())"
   ]
  },
  {
   "cell_type": "code",
   "execution_count": 205,
   "id": "8eadab6d",
   "metadata": {},
   "outputs": [
    {
     "data": {
      "text/plain": [
       "Pipeline(steps=[('tfidfvectorizer', TfidfVectorizer()),\n",
       "                ('multinomialnb', MultinomialNB())])"
      ]
     },
     "execution_count": 205,
     "metadata": {},
     "output_type": "execute_result"
    }
   ],
   "source": [
    "model.fit(X_train,y_train)"
   ]
  },
  {
   "cell_type": "code",
   "execution_count": 206,
   "id": "de769027",
   "metadata": {},
   "outputs": [
    {
     "data": {
      "text/plain": [
       "0.9234591679506934"
      ]
     },
     "execution_count": 206,
     "metadata": {},
     "output_type": "execute_result"
    }
   ],
   "source": [
    "model.score(X_train,y_train)"
   ]
  },
  {
   "cell_type": "code",
   "execution_count": 207,
   "id": "1bf35273",
   "metadata": {},
   "outputs": [
    {
     "data": {
      "text/plain": [
       "0.8721109399075501"
      ]
     },
     "execution_count": 207,
     "metadata": {},
     "output_type": "execute_result"
    }
   ],
   "source": [
    "model.score(X_test,y_test)"
   ]
  },
  {
   "cell_type": "code",
   "execution_count": 208,
   "id": "a812d6b9",
   "metadata": {},
   "outputs": [],
   "source": [
    "from sklearn.metrics import confusion_matrix\n",
    "import seaborn as sns"
   ]
  },
  {
   "cell_type": "code",
   "execution_count": 210,
   "id": "a4e952d6",
   "metadata": {},
   "outputs": [],
   "source": [
    "etiketler=model.predict(X_test)"
   ]
  },
  {
   "cell_type": "code",
   "execution_count": 211,
   "id": "b0acfe1e",
   "metadata": {},
   "outputs": [],
   "source": [
    "mat=confusion_matrix(y_test,etiketler)"
   ]
  },
  {
   "cell_type": "code",
   "execution_count": 212,
   "id": "34d29f9e",
   "metadata": {},
   "outputs": [
    {
     "data": {
      "text/plain": [
       "Text(91.68, 0.5, 'Tahmin Etiketleri')"
      ]
     },
     "execution_count": 212,
     "metadata": {},
     "output_type": "execute_result"
    },
    {
     "data": {
      "image/png": "[encoded data removed]",
      "text/plain": [
       "<Figure size 432x288 with 1 Axes>"
      ]
     },
     "metadata": {
      "needs_background": "light"
     },
     "output_type": "display_data"
    }
   ],
   "source": [
    "sns.heatmap(mat.T,square=True,annot=True,fmt='d',cbar=False,\n",
    "           xticklabels=y_test.value_counts().keys(),yticklabels=y_test.value_counts().keys())\n",
    "plt.xlabel('Gerçek Değerler')\n",
    "plt.ylabel('Tahmin Etiketleri')"
   ]
  },
  {
   "cell_type": "code",
   "execution_count": 213,
   "id": "bfe728be",
   "metadata": {},
   "outputs": [
    {
     "name": "stdout",
     "output_type": "stream",
     "text": [
      "              precision    recall  f1-score   support\n",
      "\n",
      "           0       0.84      0.92      0.88      3245\n",
      "           1       0.91      0.82      0.87      3245\n",
      "\n",
      "    accuracy                           0.87      6490\n",
      "   macro avg       0.88      0.87      0.87      6490\n",
      "weighted avg       0.88      0.87      0.87      6490\n",
      "\n"
     ]
    }
   ],
   "source": [
    "from sklearn.metrics import classification_report\n",
    "report=classification_report(y_test,etiketler)\n",
    "print(report)"
   ]
  },
  {
   "cell_type": "code",
   "execution_count": 214,
   "id": "c209afe9",
   "metadata": {},
   "outputs": [
    {
     "data": {
      "text/html": [
       "<div>\n",
       "<style scoped>\n",
       "    .dataframe tbody tr th:only-of-type {\n",
       "        vertical-align: middle;\n",
       "    }\n",
       "\n",
       "    .dataframe tbody tr th {\n",
       "        vertical-align: top;\n",
       "    }\n",
       "\n",
       "    .dataframe thead th {\n",
       "        text-align: right;\n",
       "    }\n",
       "</style>\n",
       "<table border=\"1\" class=\"dataframe\">\n",
       "  <thead>\n",
       "    <tr style=\"text-align: right;\">\n",
       "      <th></th>\n",
       "      <th>text</th>\n",
       "      <th>y</th>\n",
       "    </tr>\n",
       "  </thead>\n",
       "  <tbody>\n",
       "    <tr>\n",
       "      <th>107960</th>\n",
       "      <td>REDIRECT Talk2009 Brit Awards</td>\n",
       "      <td>0</td>\n",
       "    </tr>\n",
       "    <tr>\n",
       "      <th>130070</th>\n",
       "      <td>Hypocricy and JealousyI want to let everyone h...</td>\n",
       "      <td>1</td>\n",
       "    </tr>\n",
       "    <tr>\n",
       "      <th>43257</th>\n",
       "      <td>Your from a family of donkeys</td>\n",
       "      <td>1</td>\n",
       "    </tr>\n",
       "    <tr>\n",
       "      <th>28018</th>\n",
       "      <td>The Yemen times article is full of misinformat...</td>\n",
       "      <td>0</td>\n",
       "    </tr>\n",
       "    <tr>\n",
       "      <th>157582</th>\n",
       "      <td>Support The most well known Las Vegas is Las V...</td>\n",
       "      <td>0</td>\n",
       "    </tr>\n",
       "    <tr>\n",
       "      <th>73439</th>\n",
       "      <td>Keep up the Good WorkUser Fyunclicks edits are...</td>\n",
       "      <td>0</td>\n",
       "    </tr>\n",
       "    <tr>\n",
       "      <th>114119</th>\n",
       "      <td>See you See you later dickhead hope you never ...</td>\n",
       "      <td>1</td>\n",
       "    </tr>\n",
       "    <tr>\n",
       "      <th>79139</th>\n",
       "      <td>I see you have now meet MR Goethean I tried ve...</td>\n",
       "      <td>0</td>\n",
       "    </tr>\n",
       "    <tr>\n",
       "      <th>40338</th>\n",
       "      <td>Admins and cowards The fact is admins have bee...</td>\n",
       "      <td>1</td>\n",
       "    </tr>\n",
       "    <tr>\n",
       "      <th>135658</th>\n",
       "      <td>12 July 2009 UTCI think we have all establishe...</td>\n",
       "      <td>1</td>\n",
       "    </tr>\n",
       "    <tr>\n",
       "      <th>136867</th>\n",
       "      <td>Deletion Should this be a candidate for deleti...</td>\n",
       "      <td>0</td>\n",
       "    </tr>\n",
       "    <tr>\n",
       "      <th>131126</th>\n",
       "      <td>Rosicrucian article I have just purposed Rosic...</td>\n",
       "      <td>0</td>\n",
       "    </tr>\n",
       "    <tr>\n",
       "      <th>61427</th>\n",
       "      <td>RAPE RAPE RAPE RAPE RAPE RAPE RAPE RAPE RAPE R...</td>\n",
       "      <td>1</td>\n",
       "    </tr>\n",
       "    <tr>\n",
       "      <th>108392</th>\n",
       "      <td>Give me a breakGive me a break admin I was jus...</td>\n",
       "      <td>1</td>\n",
       "    </tr>\n",
       "    <tr>\n",
       "      <th>56318</th>\n",
       "      <td>Meters is a piece of shit as well as UserPonyo</td>\n",
       "      <td>1</td>\n",
       "    </tr>\n",
       "  </tbody>\n",
       "</table>\n",
       "</div>"
      ],
      "text/plain": [
       "                                                     text  y\n",
       "107960                      REDIRECT Talk2009 Brit Awards  0\n",
       "130070  Hypocricy and JealousyI want to let everyone h...  1\n",
       "43257                       Your from a family of donkeys  1\n",
       "28018   The Yemen times article is full of misinformat...  0\n",
       "157582  Support The most well known Las Vegas is Las V...  0\n",
       "73439   Keep up the Good WorkUser Fyunclicks edits are...  0\n",
       "114119  See you See you later dickhead hope you never ...  1\n",
       "79139   I see you have now meet MR Goethean I tried ve...  0\n",
       "40338   Admins and cowards The fact is admins have bee...  1\n",
       "135658  12 July 2009 UTCI think we have all establishe...  1\n",
       "136867  Deletion Should this be a candidate for deleti...  0\n",
       "131126  Rosicrucian article I have just purposed Rosic...  0\n",
       "61427   RAPE RAPE RAPE RAPE RAPE RAPE RAPE RAPE RAPE R...  1\n",
       "108392  Give me a breakGive me a break admin I was jus...  1\n",
       "56318      Meters is a piece of shit as well as UserPonyo  1"
      ]
     },
     "execution_count": 214,
     "metadata": {},
     "output_type": "execute_result"
    }
   ],
   "source": [
    "df.sample(15)\n"
   ]
  },
  {
   "cell_type": "code",
   "execution_count": 215,
   "id": "86a2cf11",
   "metadata": {},
   "outputs": [
    {
     "data": {
      "text/plain": [
       "'U552 Reverts That wasnt me you fucking moron You just blocked the wrong person and the idiot that is claiming it was a war crime has just undone someone elses work If you look at what he has written and then look at his sources you will see that they do not support his case75181143239'"
      ]
     },
     "execution_count": 215,
     "metadata": {},
     "output_type": "execute_result"
    }
   ],
   "source": [
    "df['text'][119099]"
   ]
  },
  {
   "cell_type": "code",
   "execution_count": 216,
   "id": "166e449d",
   "metadata": {},
   "outputs": [],
   "source": [
    "def predict_category(s,model=model):\n",
    "    pred=model.predict([s])\n",
    "    print(pred)\n",
    "    print(category[pred[0]])"
   ]
  },
  {
   "cell_type": "code",
   "execution_count": 217,
   "id": "c3862779",
   "metadata": {},
   "outputs": [
    {
     "name": "stdout",
     "output_type": "stream",
     "text": [
      "[0]\n",
      "normal\n"
     ]
    }
   ],
   "source": [
    "# 0:'normal',1:'toxic'\n",
    "predict_category('you are a very good person')"
   ]
  },
  {
   "cell_type": "code",
   "execution_count": null,
   "id": "18a91d3a",
   "metadata": {},
   "outputs": [],
   "source": []
  }
 ],
 "metadata": {
  "kernelspec": {
   "display_name": "Python 3",
   "language": "python",
   "name": "python3"
  },
  "language_info": {
   "codemirror_mode": {
    "name": "ipython",
    "version": 3
   },
   "file_extension": ".py",
   "mimetype": "text/x-python",
   "name": "python",
   "nbconvert_exporter": "python",
   "pygments_lexer": "ipython3",
   "version": "3.6.13"
  }
 },
 "nbformat": 4,
 "nbformat_minor": 5
}
